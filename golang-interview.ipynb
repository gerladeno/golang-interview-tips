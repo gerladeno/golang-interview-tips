{
 "cells": [
  {
   "cell_type": "markdown",
   "id": "ead2094f",
   "metadata": {},
   "source": [
    "### Network\n",
    "##### TCP vs UDP\n",
    "TCP creates a connection and guarantees message delivery thus is pretty slow (due to delivery confirmation messages)\n",
    "UDP doesn't require a connection. It also doesn't guarantee message delivery or even message order.\n",
    "##### NAT\n",
    "Network address translation provides translation from private IPv4 addresses to a public address to make it possible for devices to communicate pith public.\n",
    "##### HTTPS\n",
    "HTTPS is a HTTP (hypertext transfer protocol) secure - http with SSL/TLS support\n",
    "##### SSL/TLS\n",
    "Secure socket layer and transport layer security. TLS uses assymetric encryption only while setting connection: it allows to choose a key for symmetric encryption for the whole session."
   ]
  },
  {
   "cell_type": "markdown",
   "id": "5f8afbd3",
   "metadata": {},
   "source": [
    "### DBMS\n",
    "##### Indexes\n",
    "What's that? What for? Normal/Unique/Composite/Partial etc.? Partial - to optimize index (for example by excluding popular values - reduces size and, improve select insert and update speed).\n",
    "##### Deadlcok\n",
    "Deadlock example:\n",
    "\n",
    "|Transaction1|Transaction2|\n",
    "|---------------|---------------|\n",
    "|Update t1 query|...|\n",
    "|...|Update t2 query|\n",
    "|Update t2 query|...|\n",
    "|blocked|Update t1 query|\n",
    "|blocked|blocked|\n",
    "\n",
    "##### Replication and Sharding"
   ]
  },
  {
   "cell_type": "markdown",
   "id": "9f100bb0",
   "metadata": {},
   "source": [
    "### Golang\n",
    "##### Why go?\n",
    "goroutines, network poller  \n",
    "##### Declarative vs imperative\n",
    "golang is imperative - tells HOW to achieve a goal  \n",
    "sql is declarative - declares WHAT is to be achieved  \n",
    "##### Serialization\n",
    "Converting variable to a binnary representation (pointers might be a problem)  \n",
    "##### ORM\n",
    "object-relational mapping  \n",
    "##### Strings\n",
    "String is an immutable slice of bytes  \n",
    "Concatenating strings might be costly, use string builder to make it effective:  \n",
    "```go\n",
    "s := strings.Builder{}\n",
    "for _, w := range words {\n",
    "    s.WriteString(w)\n",
    "}\n",
    "s.String()\n",
    "```\n",
    "##### Map\n",
    "```go\n",
    "m := make(map[string]int)\n",
    "```\n",
    "panic on wtiting to not inited maps  \n",
    "fatal error: concurrent map writes  \n",
    "fatal error: concurrent map iteration and map write  \n",
    "use sync.Mutex or use sync.Map  \n",
    "random order when iterating over it  \n",
    "##### OOP\n",
    "struct, visibility, embedding, cunstructor, methods, receivers by link/ by value, interfaces  \n",
    "don't use pointer receivers for map, chan, func  \n",
    "don't use pointer receivers for slices if no reallocation/reslicing  \n",
    "don't use value receivers for structs with Mutex  \n",
    "inheritance is not embedding (L in SOLID: successor cannot be used instead of base class)\n",
    "##### Goroutines\n",
    "goroutine is not a OS thread, it's smaller. Limit threads: GOMAXPROCS, limit goroutines: use workers pool pattern\n",
    "##### Slice\n",
    "pointer to an underlying array. Length, capacity. Realloctaion on capacity exceeding. Slice may change even when was passed by value (since it's a pointer) but only if it was not reallocated. Use pointer on a slice if you plan to change it\n",
    "##### Channel\n",
    "```go\n",
    "m := make(ch chan int)\n",
    "```\n",
    "```go \n",
    "func f(c chan<- string) {}\n",
    "```\n",
    "buffered channels  \n",
    "panic on writing to closed or nil channels  \n",
    "reading from closed channel returns default value, false  \n",
    "##### Sync\n",
    "Mutex, RWMutex  \n",
    "sync.Map  \n",
    "atomic  \n",
    "##### Interfaces\n",
    "Type that satisfies an interface is said to implement it  \n",
    "Interface default value is nil  \n",
    "Empty interface is any type  \n",
    "```go\n",
    "switch val.(type){\n",
    "case int:\n",
    "default:\n",
    "}\n",
    "```\n",
    "type assertion\n",
    "```go\n",
    "func assertInt(val interface{}) {\n",
    "    i, ok := val.(int) // if false without ok - panics\n",
    "}\n",
    "```\n",
    "interface assertion\n",
    "```go\n",
    "var _ Interface = (*Type)(nil)\n",
    "```\n",
    "##### Memory\n",
    "go runtime lies in OS heap  \n",
    "go works in stack, but if a function returns a pointer, then go creates it in heap  \n",
    "Read(p []byte) (n int, err error) - reduces amount of allocations  \n",
    "Arena (64MB) -> Span (66 classes) -> Pages  \n",
    "STW - > mark heap objects (tricolor) -> STW. Actual GC during allocation  \n",
    "when: by time (minutes), by mem limit (GOGC), by call runtime.GC()  \n",
    "##### Scheduler\n",
    "Pool of goroutines -> local pools (set of g per thread) -> global pool -> work stealing (half)  \n",
    "Queue: FIFO + 1-el LIFO  \n",
    "FIFO hunger: timer for goroutines chain (~10ms)  \n",
    "goroutines hunger: timer for long runs (sysmon) + park g on syscall  \n",
    "global queue hunger: every 61 tick local queue takes a g from global queue  \n",
    "network poller - a pad between OS network management and goroutines  "
   ]
  },
  {
   "cell_type": "code",
   "execution_count": 1,
   "id": "205a310f",
   "metadata": {},
   "outputs": [],
   "source": [
    "import (\n",
    "    \"fmt\"\n",
    "    \"time\"\n",
    "    \"sort\"\n",
    "    \"math/rand\"\n",
    "    \"sync\"\n",
    ")"
   ]
  },
  {
   "cell_type": "code",
   "execution_count": 2,
   "id": "42db788f",
   "metadata": {},
   "outputs": [],
   "source": [
    "func sleep(n int) {\n",
    "    <-time.After(time.Duration(n) * time.Second)\n",
    "}"
   ]
  },
  {
   "cell_type": "code",
   "execution_count": 3,
   "id": "8ba81fd7",
   "metadata": {},
   "outputs": [
    {
     "name": "stdout",
     "output_type": "stream",
     "text": [
      "before swap a: 1, b: 4\n",
      "after swap a: 4, b: 1\n"
     ]
    },
    {
     "data": {
      "text/plain": [
       "22 <nil>"
      ]
     },
     "execution_count": 3,
     "metadata": {},
     "output_type": "execute_result"
    }
   ],
   "source": [
    "var a, b = 1, 4\n",
    "func swap(x, y *int) {\n",
    "    *x, *y = *y, *x\n",
    "}\n",
    "fmt.Printf(\"before swap a: %d, b: %d\\n\", a, b)\n",
    "swap(&a,&b)\n",
    "fmt.Printf(\"after swap a: %d, b: %d\\n\", a, b)"
   ]
  },
  {
   "cell_type": "code",
   "execution_count": 4,
   "id": "72c5fca4",
   "metadata": {},
   "outputs": [
    {
     "name": "stdout",
     "output_type": "stream",
     "text": [
      "aba\n",
      "bob\n",
      "george\n"
     ]
    }
   ],
   "source": [
    "type Something struct {\n",
    "    Name string\n",
    "}\n",
    "s := []Something{{\"aba\"}, {\"george\"}, {\"bob\"}}\n",
    "sort.Slice(s, func(i,j int) bool {\n",
    "    return s[i].Name < s[j].Name\n",
    "})\n",
    "for _, elem := range s {\n",
    "    fmt.Printf(\"%s\\n\", elem.Name)\n",
    "}"
   ]
  },
  {
   "cell_type": "code",
   "execution_count": 5,
   "id": "6435b50e",
   "metadata": {},
   "outputs": [
    {
     "name": "stdout",
     "output_type": "stream",
     "text": [
      "1, 3, 4, 5, \n",
      "1, 3, 4, 5, "
     ]
    }
   ],
   "source": [
    "func sliceIntersectionMemory(a, b []int) []int {\n",
    "    am := make(map[int]struct{})\n",
    "    l := len(a)\n",
    "    if len(a) < len(b) {\n",
    "        l = len(b)\n",
    "    }\n",
    "    c := make([]int, 0, l)\n",
    "    for _, elem := range a {\n",
    "        am[elem] = struct{}{}\n",
    "    }\n",
    "    for _, elem := range b {\n",
    "        if _, ok := am[elem]; ok {\n",
    "            c = append(c, elem)\n",
    "        }\n",
    "    }\n",
    "    return c\n",
    "}\n",
    "\n",
    "func sliceIntersectionTime(a, b []int) []int {\n",
    "    l := len(a)\n",
    "    if len(a) < len(b) {\n",
    "        l = len(b)\n",
    "    }\n",
    "    c := make([]int, 0, l)\n",
    "    sort.Slice(a, func(i, j int) bool { return a[i] < a[j] })\n",
    "    sort.Slice(b, func(i, j int) bool { return b[i] < b[j] })\n",
    "    j := 0\n",
    "    INTERSECTION:\n",
    "    for _, el := range a {\n",
    "        for {\n",
    "            if j == len(b) {\n",
    "                break INTERSECTION\n",
    "            }\n",
    "            if el == b[j] {\n",
    "                c = append(c, el)\n",
    "                j++\n",
    "                break\n",
    "            }\n",
    "            j++\n",
    "        }\n",
    "    }\n",
    "    return c\n",
    "}\n",
    "\n",
    "a := []int{1,5,4,3,7,9}\n",
    "b := []int{1,2,3,4,5,10}\n",
    "for _, el := range sliceIntersectionTime(a,b) {\n",
    "    fmt.Printf(\"%d, \", el)\n",
    "}\n",
    "fmt.Println()\n",
    "for _, el := range sliceIntersectionMemory(a,b) {\n",
    "    fmt.Printf(\"%d, \", el)\n",
    "}"
   ]
  },
  {
   "cell_type": "code",
   "execution_count": 6,
   "id": "2b9b2c78",
   "metadata": {},
   "outputs": [
    {
     "name": "stdout",
     "output_type": "stream",
     "text": [
      "614, 331, 935, 487, 464, 299, 324, 952, 463, 447, 469, 180, 210, 124, 725, 966, 271, 373, 740, 553, "
     ]
    }
   ],
   "source": [
    "func randIntGenerator(n, m int) <-chan int {\n",
    "    r := rand.New(rand.NewSource(time.Now().UnixNano()))\n",
    "    out := make(chan int)\n",
    "    go func() {\n",
    "        for i := 0; i < n; i++ {\n",
    "            out <- r.Intn(m)\n",
    "        }\n",
    "        close(out)\n",
    "    }()\n",
    "    return out\n",
    "}\n",
    "\n",
    "for i := range randIntGenerator(20, 1000) {\n",
    "    fmt.Printf(\"%d, \", i)\n",
    "}"
   ]
  },
  {
   "cell_type": "code",
   "execution_count": 7,
   "id": "a62e4008",
   "metadata": {},
   "outputs": [
    {
     "name": "stdout",
     "output_type": "stream",
     "text": [
      "4, 5, 6, "
     ]
    }
   ],
   "source": [
    "func mergeChannels(chans ...<-chan int) <-chan int {\n",
    "    merged := make(chan int)\n",
    "    go func() {\n",
    "        wg := sync.WaitGroup{}\n",
    "        for _, ch := range chans {\n",
    "            wg.Add(1)\n",
    "            go func(ch <-chan int) {\n",
    "                defer wg.Done()\n",
    "                for i := range ch {\n",
    "                    merged<- i\n",
    "                }\n",
    "            }(ch)\n",
    "        }\n",
    "        wg.Wait()\n",
    "        close(merged)\n",
    "    }()\n",
    "    return merged\n",
    "}\n",
    "\n",
    "a := make(chan int)\n",
    "b := make(chan int)\n",
    "go func() {\n",
    "    for _, i := range []int{1,2,3} {\n",
    "        a <- i\n",
    "    }\n",
    "    close(a)\n",
    "}()\n",
    "go func() {\n",
    "    for _, i := range []int{4,5,6} {\n",
    "        b <- i\n",
    "    }\n",
    "    close(b)\n",
    "}()\n",
    "ch := mergeChannels(a, b)\n",
    "for i := range ch {\n",
    "    fmt.Printf(\"%d, \", i)\n",
    "}"
   ]
  },
  {
   "cell_type": "code",
   "execution_count": 8,
   "id": "71abf585",
   "metadata": {},
   "outputs": [
    {
     "name": "stdout",
     "output_type": "stream",
     "text": [
      "2, 4, 6, 8, 10, 12, 14, 16, 18, "
     ]
    }
   ],
   "source": [
    "func pipeline(in <-chan int, out chan<- int) {\n",
    "    for input := range in {\n",
    "        out<- input*2\n",
    "    }\n",
    "    close(out)\n",
    "}\n",
    "in := make(chan int)\n",
    "out := make(chan int)\n",
    "go func() {\n",
    "    for _, i := range []int{1,2,3,4,5,6,7,8,9} {\n",
    "        in<- i\n",
    "    }\n",
    "    close(in)\n",
    "}()\n",
    "go pipeline(in, out)\n",
    "for i := range out {\n",
    "    fmt.Printf(\"%d, \", i)\n",
    "}"
   ]
  },
  {
   "cell_type": "code",
   "execution_count": 9,
   "id": "35525158",
   "metadata": {},
   "outputs": [
    {
     "name": "stdout",
     "output_type": "stream",
     "text": [
      "worker 1 has done job 3 with result 9\n",
      "9\n",
      "3\n",
      "6\n",
      "12\n",
      "worker 1 has done job 4 with result 12\n",
      "worker 0 has done job 1 with result 3\n",
      "15\n",
      "worker 1 has done job 5 with result 15\n",
      "worker 2 has done job 2 with result 6\n",
      "worker 1 has done job 7 with result 21\n",
      "21\n",
      "24\n",
      "18\n",
      "27\n",
      "worker 2 has done job 8 with result 24\n",
      "worker 1 has done job 9 with result 27\n",
      "worker 0 has done job 6 with result 18\n"
     ]
    }
   ],
   "source": [
    "func worker(id int, fn func(int) int, jobs <-chan int, results chan<- int) {\n",
    "    for job := range jobs {\n",
    "        result := fn(job)\n",
    "        results <- result\n",
    "        fmt.Printf(\"worker %d has done job %d with result %d\\n\", id, job, result)\n",
    "    }\n",
    "}\n",
    "\n",
    "workersLimit := 3\n",
    "jobs := make(chan int)\n",
    "results := make(chan int)\n",
    "fn := func(i int) int { return i * 3 }\n",
    "go func() {\n",
    "    wg := sync.WaitGroup{}\n",
    "    for i := 0; i < workersLimit; i++ {\n",
    "        i := i\n",
    "        wg.Add(1)\n",
    "        go func() {\n",
    "            defer wg.Done()\n",
    "            worker(i, fn, jobs, results)\n",
    "        }()\n",
    "    }\n",
    "    wg.Wait()\n",
    "    close(results)\n",
    "}()\n",
    "go func() {\n",
    "    for _, i := range []int{1, 2, 3, 4, 5, 6, 7, 8, 9} {\n",
    "        jobs <- i\n",
    "    }\n",
    "    close(jobs)\n",
    "}()\n",
    "for i := range results {\n",
    "    fmt.Printf(\"%d\\n\", i)\n",
    "}"
   ]
  },
  {
   "cell_type": "code",
   "execution_count": 10,
   "id": "7c5ba486",
   "metadata": {},
   "outputs": [
    {
     "name": "stdout",
     "output_type": "stream",
     "text": [
      "1, 9, 2, 7, 0, 10, 11, 12, 13, 14, 15, 16, 4, 17, 18, 8, 5, 6, 3, 19, "
     ]
    }
   ],
   "source": [
    "type WG struct {\n",
    "    sema chan struct{}\n",
    "    len  int\n",
    "    mx sync.Mutex\n",
    "}\n",
    "\n",
    "func NewWG() *WG {\n",
    "    return &WG{sema: make(chan struct{})}\n",
    "}\n",
    "\n",
    "func (wg *WG) Add(i int) {\n",
    "    wg.mx.Lock()\n",
    "    defer wg.mx.Unlock()\n",
    "    wg.len += i\n",
    "}\n",
    "\n",
    "func (wg *WG) Done() {\n",
    "    wg.mx.Lock()\n",
    "    defer wg.mx.Unlock()\n",
    "    wg.len--\n",
    "    if wg.len == 0 {\n",
    "        close(wg.sema)\n",
    "    }\n",
    "}\n",
    "\n",
    "func (wg *WG) Wait() {\n",
    "    <-wg.sema\n",
    "}\n",
    "\n",
    "wg := NewWG()\n",
    "\n",
    "for i:=0; i < 20; i++ {\n",
    "    wg.Add(1)\n",
    "    go func(i int){\n",
    "        defer wg.Done()\n",
    "        fmt.Printf(\"%d, \", i)\n",
    "    }(i)\n",
    "}\n",
    "\n",
    "wg.Wait()"
   ]
  },
  {
   "cell_type": "code",
   "execution_count": 11,
   "id": "de462f1f",
   "metadata": {},
   "outputs": [],
   "source": [
    "import (\n",
    "    \"fmt\"\n",
    "    \"strconv\"\n",
    "    \"sync\"\n",
    ")\n",
    "\n",
    "func main() {\n",
    "    var wg sync.WaitGroup\n",
    "    ch := make(chan string)\n",
    "    for i := 0; i < 5; i++ {\n",
    "        wg.Add(1)\n",
    "        go func(i int) {\n",
    "            defer wg.Done()\n",
    "            ch <- fmt.Sprintf(\"Goroutine %s\", strconv.Itoa(i))\n",
    "        }(i)\n",
    "    }\n",
    "    go func() {\n",
    "        wg.Wait()\n",
    "        close(ch)\n",
    "    }()\n",
    "\n",
    "\n",
    "    {\n",
    "    FOR:\n",
    "        for {\n",
    "            select {\n",
    "            case q, ok := <-ch:\n",
    "                if !ok {\n",
    "                    break FOR\n",
    "                }\n",
    "                fmt.Println(q)\n",
    "            }\n",
    "        }\n",
    "    }\n",
    "}"
   ]
  }
 ],
 "metadata": {
  "kernelspec": {
   "display_name": "Go",
   "language": "go",
   "name": "gophernotes"
  },
  "language_info": {
   "codemirror_mode": "",
   "file_extension": ".go",
   "mimetype": "",
   "name": "go",
   "nbconvert_exporter": "",
   "pygments_lexer": "",
   "version": "go1.16.2"
  }
 },
 "nbformat": 4,
 "nbformat_minor": 5
}
